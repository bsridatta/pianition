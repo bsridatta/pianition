{
 "cells": [
  {
   "cell_type": "code",
   "execution_count": 34,
   "metadata": {},
   "outputs": [],
   "source": [
    "import pandas as pd\n",
    "import json"
   ]
  },
  {
   "cell_type": "code",
   "execution_count": 19,
   "metadata": {},
   "outputs": [],
   "source": [
    "df = pd.read_csv(\"../data/maestro-v2.0.0.csv\")"
   ]
  },
  {
   "cell_type": "code",
   "execution_count": 20,
   "metadata": {},
   "outputs": [
    {
     "data": {
      "text/plain": [
       "(1282, 7)"
      ]
     },
     "execution_count": 20,
     "metadata": {},
     "output_type": "execute_result"
    }
   ],
   "source": [
    "df.shape"
   ]
  },
  {
   "cell_type": "code",
   "execution_count": 21,
   "metadata": {},
   "outputs": [
    {
     "data": {
      "text/plain": [
       "['canonical_composer',\n",
       " 'canonical_title',\n",
       " 'split',\n",
       " 'year',\n",
       " 'midi_filename',\n",
       " 'audio_filename',\n",
       " 'duration']"
      ]
     },
     "execution_count": 21,
     "metadata": {},
     "output_type": "execute_result"
    }
   ],
   "source": [
    "list(df.columns)"
   ]
  },
  {
   "cell_type": "code",
   "execution_count": 22,
   "metadata": {},
   "outputs": [
    {
     "name": "stdout",
     "output_type": "stream",
     "text": [
      "canonical_composer 61\n",
      "canonical_title 857\n",
      "split 3\n",
      "year 10\n",
      "midi_filename 1282\n",
      "audio_filename 1282\n",
      "duration 1281\n"
     ]
    }
   ],
   "source": [
    "for c in df.columns:\n",
    "    print(c, len(df[c].unique()))"
   ]
  },
  {
   "cell_type": "code",
   "execution_count": 35,
   "metadata": {},
   "outputs": [],
   "source": [
    "with open('../data/maestro-v2.0.0.json', 'r') as f:\n",
    "    data = json.load(f)"
   ]
  },
  {
   "cell_type": "code",
   "execution_count": 53,
   "metadata": {},
   "outputs": [
    {
     "name": "stdout",
     "output_type": "stream",
     "text": [
      "Alexander Scriabin;26;19268;Fragilite, Op.51\n",
      "Claude Debussy;41;21507;L'isle joyeuse, L. 106\n",
      "Domenico Scarlatti;29;6170;Sonata in G Major, K. 455\n",
      "Franz Liszt;91;72959;Rhapsodie Espagnole, S. 254\n",
      "Franz Schubert;96;128959;Sonata in A minor, D. 845 (Complete)\n",
      "Frédéric Chopin;107;94389;Preludes, Book II, L 123, VI. Général Lavine - eccentric\n",
      "Johann Sebastian Bach;93;49560;Prelude and Fugue in G-sharp Minor, WTC I, BWV 863\n",
      "Joseph Haydn;29;17005;Sonata in D Major, Hob. XVI:24\n",
      "Ludwig van Beethoven;96;99358;Sonata No. 21, Op. 53, \"Waldstein\", I. Allegro con brio\n",
      "Robert Schumann;31;56596;Sonata No. 2 in G Minor, Op. 22\n",
      "Sergei Rachmaninoff;50;23986;Etude-Tableaux Op. 39 No. 5\n",
      "Wolfgang Amadeus Mozart;35;20149;Sonata K. 457\n"
     ]
    }
   ],
   "source": [
    "composer_count = {}\n",
    "\n",
    "for sample in data:\n",
    "    composer_name = sample['canonical_composer']\n",
    "    if composer_name in composer_count:\n",
    "        composer_count[composer_name] += 1\n",
    "    else:\n",
    "        composer_count[composer_name] = 1\n",
    "        \n",
    "composer_titles = {composer_name: set() for composer_name in composer_count.keys()}\n",
    "composer_duration = {composer_name: 0 for composer_name in composer_count.keys()}\n",
    "\n",
    "for sample in data:\n",
    "    composer_name = sample['canonical_composer']\n",
    "    title = sample['canonical_title']\n",
    "    duration = sample['duration']\n",
    "    \n",
    "    composer_titles[composer_name].add(title)\n",
    "    composer_duration[composer_name] += duration\n",
    "\n",
    "for composer_name, count in composer_count.items():\n",
    "    if count >= 30:\n",
    "        print(composer_name, end=\";\")\n",
    "        print(len(composer_titles[composer_name]), end=\";\")\n",
    "        print(round(composer_duration[composer_name]), end=\";\")\n",
    "        print(\";\".join(list(composer_titles[composer_name])[0:1]))"
   ]
  },
  {
   "cell_type": "code",
   "execution_count": null,
   "metadata": {},
   "outputs": [],
   "source": []
  }
 ],
 "metadata": {
  "kernelspec": {
   "display_name": "venv",
   "language": "python",
   "name": "venv"
  },
  "language_info": {
   "codemirror_mode": {
    "name": "ipython",
    "version": 3
   },
   "file_extension": ".py",
   "mimetype": "text/x-python",
   "name": "python",
   "nbconvert_exporter": "python",
   "pygments_lexer": "ipython3",
   "version": "3.6.7"
  }
 },
 "nbformat": 4,
 "nbformat_minor": 2
}
