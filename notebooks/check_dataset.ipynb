{
 "cells": [
  {
   "cell_type": "code",
   "execution_count": 2,
   "metadata": {},
   "outputs": [],
   "source": [
    "import json\n",
    "import numpy as np"
   ]
  },
  {
   "cell_type": "code",
   "execution_count": 10,
   "metadata": {},
   "outputs": [],
   "source": [
    "with open('../data/maestro-v2.0.0/maestro-v2.0.0.json') as f:\n",
    "    data = json.load(f)"
   ]
  },
  {
   "cell_type": "code",
   "execution_count": 4,
   "metadata": {},
   "outputs": [
    {
     "name": "stdout",
     "output_type": "stream",
     "text": [
      "['train', 'val', 'test', 'label_to_composer', 'label_to_song']\n",
      "['path', 'composer-label', 'song-label']\n"
     ]
    }
   ],
   "source": [
    "print([k for k in data.keys()])\n",
    "print([k for k in data['train'].keys()])"
   ]
  },
  {
   "cell_type": "code",
   "execution_count": 5,
   "metadata": {},
   "outputs": [],
   "source": [
    "train_songs = data['train']['song-label']\n",
    "val_songs = data['val']['song-label']\n",
    "test_songs = data['test']['song-label']"
   ]
  },
  {
   "cell_type": "code",
   "execution_count": 6,
   "metadata": {},
   "outputs": [
    {
     "name": "stdout",
     "output_type": "stream",
     "text": [
      "494\n",
      "150\n",
      "78\n"
     ]
    }
   ],
   "source": [
    "print(len(train_songs))\n",
    "print(len(val_songs))\n",
    "print(len(test_songs))"
   ]
  },
  {
   "cell_type": "code",
   "execution_count": 12,
   "metadata": {},
   "outputs": [
    {
     "name": "stdout",
     "output_type": "stream",
     "text": [
      "mean: 565.0345682827794, min: 45.1552083333, max: 2624.66350781\n"
     ]
    }
   ],
   "source": [
    "durations = []\n",
    "\n",
    "for d in data:\n",
    "    dur = d['duration']\n",
    "    durations.append(dur)\n",
    "    \n",
    "durations = np.array(durations)\n",
    "print('mean: {}, min: {}, max: {}'.format(\n",
    "    np.mean(durations),\n",
    "    np.min(durations),\n",
    "    np.max(durations)\n",
    "))"
   ]
  },
  {
   "cell_type": "code",
   "execution_count": null,
   "metadata": {},
   "outputs": [],
   "source": []
  }
 ],
 "metadata": {
  "kernelspec": {
   "display_name": "venv",
   "language": "python",
   "name": "venv"
  },
  "language_info": {
   "codemirror_mode": {
    "name": "ipython",
    "version": 3
   },
   "file_extension": ".py",
   "mimetype": "text/x-python",
   "name": "python",
   "nbconvert_exporter": "python",
   "pygments_lexer": "ipython3",
   "version": "3.6.7"
  }
 },
 "nbformat": 4,
 "nbformat_minor": 2
}
